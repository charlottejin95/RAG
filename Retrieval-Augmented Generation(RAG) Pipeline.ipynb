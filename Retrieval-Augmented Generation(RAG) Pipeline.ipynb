{
  "nbformat": 4,
  "nbformat_minor": 0,
  "metadata": {
    "colab": {
      "provenance": [],
      "toc_visible": true,
      "include_colab_link": true
    },
    "kernelspec": {
      "name": "python3",
      "display_name": "Python 3"
    },
    "language_info": {
      "name": "python"
    }
  },
  "cells": [
    {
      "cell_type": "markdown",
      "metadata": {
        "id": "view-in-github",
        "colab_type": "text"
      },
      "source": [
        "<a href=\"https://colab.research.google.com/github/charlottejin95/RAG/blob/main/Retrieval-Augmented%20Generation(RAG)%20Pipeline.ipynb\" target=\"_parent\"><img src=\"https://colab.research.google.com/assets/colab-badge.svg\" alt=\"Open In Colab\"/></a>"
      ]
    },
    {
      "cell_type": "markdown",
      "source": [
        "# Retrieval-Augmented Generation (RAG)\n",
        "\n",
        "RAG is an advanced artifical intellifence tenique that combines information retrieval with text generation, allowing AI models to retrieve relevant information from a knowledge source and incorporate into generated text.\n",
        "\n",
        "RAG enables Large Langurage Models(LLMs) to produce higher-quality & more context-aware output compared to traditional generation methods. RAG framework includes **Retriever Component** and **Generator Componet**"
      ],
      "metadata": {
        "id": "n_-PFRJtLSqC"
      }
    },
    {
      "cell_type": "markdown",
      "source": [
        "## Environment Set-up\n",
        "\n",
        "Using **Llama Index** package, which is the leading data framework for building LLM applications."
      ],
      "metadata": {
        "id": "nEwQk-lSNMxA"
      }
    },
    {
      "cell_type": "code",
      "source": [
        "! pip install llama_index openai"
      ],
      "metadata": {
        "id": "4JRNz5WG2eg1"
      },
      "execution_count": null,
      "outputs": []
    },
    {
      "cell_type": "code",
      "source": [
        "# Set up OPENAI_API environment by providing your own key\n",
        "import os\n",
        "os.environ['OPENAI_API_KEY'] = 'Your Key'\n"
      ],
      "metadata": {
        "id": "sZ1OmWF42wv5"
      },
      "execution_count": 2,
      "outputs": []
    },
    {
      "cell_type": "code",
      "source": [
        "#Import packages\n",
        "from llama_index.core import SimpleDirectoryReader, VectorStoreIndex, Document"
      ],
      "metadata": {
        "id": "X7XTqZlPNWWK"
      },
      "execution_count": 3,
      "outputs": []
    },
    {
      "cell_type": "markdown",
      "source": [
        "## Step 1: Loading\n",
        "\n",
        "Loading external documents and data (Documents loader)"
      ],
      "metadata": {
        "id": "LXwEg8E516y_"
      }
    },
    {
      "cell_type": "code",
      "source": [
        "from google.colab import drive\n",
        "drive.mount('/content/drive')"
      ],
      "metadata": {
        "colab": {
          "base_uri": "https://localhost:8080/"
        },
        "id": "IRVZDA88P3xo",
        "outputId": "0a9ba747-0b79-4c13-a0e7-6cdc9af5c0a4"
      },
      "execution_count": 4,
      "outputs": [
        {
          "output_type": "stream",
          "name": "stdout",
          "text": [
            "Mounted at /content/drive\n"
          ]
        }
      ]
    },
    {
      "cell_type": "code",
      "source": [
        "# load documents\n",
        "documents = SimpleDirectoryReader(\"/content/drive/MyDrive/Colab Notebooks/LO-Projects/ML Project/RAG/Reference_files\").load_data()\n",
        "\n",
        "print(documents)\n",
        "print(type(documents),len(documents))\n",
        "#Split the document into 8 chunks automatically, usally based on num of pages, for faster processing."
      ],
      "metadata": {
        "colab": {
          "base_uri": "https://localhost:8080/"
        },
        "id": "iKFK0G-8QcYD",
        "outputId": "3ae4cbcc-958b-4603-a010-3d5861dc3cfa"
      },
      "execution_count": 5,
      "outputs": [
        {
          "output_type": "stream",
          "name": "stdout",
          "text": [
            "[Document(id_='17056afc-b0d2-4b97-9103-b4cc131d9f43', embedding=None, metadata={'page_label': '1', 'file_name': 'A Neuropsychiatric Analysis of the Cotard Delusion.pdf', 'file_path': '/content/drive/MyDrive/Colab Notebooks/LO-Projects/ML Project/RAG/Reference_files/A Neuropsychiatric Analysis of the Cotard Delusion.pdf', 'file_type': 'application/pdf', 'file_size': 613934, 'creation_date': '2025-06-15', 'last_modified_date': '2025-06-15'}, excluded_embed_metadata_keys=['file_name', 'file_type', 'file_size', 'creation_date', 'last_modified_date', 'last_accessed_date'], excluded_llm_metadata_keys=['file_name', 'file_type', 'file_size', 'creation_date', 'last_modified_date', 'last_accessed_date'], relationships={}, metadata_template='{key}: {value}', metadata_separator='\\n', text_resource=MediaResource(embeddings=None, data=None, text='A Neuropsychiatric Analysis of the Cotard Delusion\\nAradhana Sahoo, B.S., Keith A. Josephs, M.D.\\nCotard’s syndrome, a condition in which the patient denies\\nhis or her own existence or the existence of body parts, is a\\nrare illness that has been reported in association with several\\nneuropsychiatric diagnoses. The majority of published lit-\\nerature on the topic is in the form of case reports, many of\\nwhich are several years old. The authors evaluated associated\\ndiagnoses, neuroimaging, and treatments recorded in pa-\\ntients diagnosed with Cotard’s syndrome at their institution. A\\nsearch of the Mayo Clinic database for patients with mention\\nof signs and symptoms associated with Cotard’s in their re-\\ncords between 1996 and 2016 was conducted. The electronic\\nmedical records of the identiﬁed patients were then reviewed\\nfor evidence of a true diagnosis of Cotard’s. Clinical and\\nneuroimaging data were also recorded for these patients. The\\nsearch identiﬁed 18 patients, 14 of whom had Cotard delu-\\nsions. Two of the 14 were excluded due to them being under\\nage 18. The resulting 12 patients had a median age of 52 years\\n(range: 30 – 85 years). On neuroimaging, four patients\\nexhibited frontal lobe changes, four demonstrated gener-\\nalized volume loss, andﬁve had ischemic changes; seven\\npatients demonstrated right-sided or bilateral hemisphere\\nlesions. Treatments included ECT, pharmacotherapy, be-\\nhavioral therapy, psychotherapy, rehydration, and removal\\nof offending drugs. To conclude, Cotard delusions occur in\\nthe context of a relatively wide spectrum of neurological,\\npsychiatric, and medical disorders and present with various\\nneural changes. Nondominant hemisphere lesions may\\nplay a role in the pathophysiology. A number of effective\\ntreatments are available.\\nJ Neuropsychiatry Clin Neurosci 2018; 30:58–65;\\ndoi: 10.1176/appi.neuropsych.17010018\\nCotard’s syndrome is a rare neuropsychiatric condition that\\nmanifests as nihilistic delusions ranging from denial of the\\nexistence of body parts to negation of self-existence.\\n1\\nThough described initially in 1880, very little is understood\\nabout this disorder, and its inclusion in theDSM-5 as a\\nspeciﬁc listing has been avoided. The current status of\\nCotard’s syndrome is its conceptualization as a manifesta-\\ntion of an underlying disorder. While Cotard’si so f t e nd e -\\nscribed as being a psychiatric syndrome, published studies\\nhave shown a strong correlation between a preexisting\\nneurological disease and the condition.\\n1\\nA variety of associated neurological conditions have been\\ndescribed, including migraines, 2 subdural hemorrhage, 3\\ncerebral atrophy,4 cerebral arterio-venous malformation,5\\nmultiple sclerosis, 6 cerebral infarction, 7 superior sagittal\\nsinus thrombosis, 8 parietal lobe tumor, 9 temporal lobe\\nepilepsy,5 Parkinson’s disease,10 encephalopathy,1 and brain\\ninjury.11 Understanding Cotard’s syndrome and its connec-\\ntion to other neurological conditions is essential to identi-\\nfying appropriate treatment modalities.\\nThe goal of this study thus was to identify patients with\\nCotard’s syndrome seen at our institution within the last two\\ndecades and identify those patients in whom the Cotard’s\\nwas felt to be secondary to another psychiatric or neurologic\\nillness or insult. In doing so, we hoped to describe the as-\\nsociation between Cotard’s and other conditions affecting\\nthe brain in order to better deﬁne possible pathophysiologic\\nmechanisms underlying the syndrome.\\nMETHODS\\nPatients were identi ﬁed by searching the Mayo Clinic\\ncomputerized clinical database (1996–2016) for all individ-\\nuals for whom any of the following terms had been men-\\ntioned in the medical records, with variations:Cotard(’s)\\nsyndrome, delusion(s) of negation, nihilistic delusion(s), walk-\\ning corpse syndrome, delusion(s) of missing organs, denial of\\nexistence, idea(s) of damnation.\\nThe search identiﬁed 18 patients. The medical records of\\nall 18 patients were reviewed in detail to determine whether\\nthere was evidence of Cotard delusions. Inclusion criteria\\nfor Cotard’s syndrome included descriptions of negation of\\nthe existence or belief in the destruction of internal organs,\\ndenial of being alive, or denial of the existence of one’s soul,\\nwith nihilistic delusions being necessary for inclusion. Of the\\n18, three patients were excluded after a review of the med-\\nical records revealed no evidence of Cotard’s. These three\\npatients were captured in the original 18 because of com-\\nments in the medical records, such as“denies Cotard de-\\nlusions.” Two additional patients were excluded, as they\\nwere under the age of 18. One patient was removed because\\nhe showed signs of somatoparaphrenia (limb denial) rather\\n58 neuro.psychiatryonline.org J Neuropsychiatry Clin Neurosci 30:1, Winter 2018\\nCLINICAL AND RESEARCH REPORTS', path=None, url=None, mimetype=None), image_resource=None, audio_resource=None, video_resource=None, text_template='{metadata_str}\\n\\n{content}'), Document(id_='e3eb0939-100d-41b1-b524-728e0552c3b7', embedding=None, metadata={'page_label': '2', 'file_name': 'A Neuropsychiatric Analysis of the Cotard Delusion.pdf', 'file_path': '/content/drive/MyDrive/Colab Notebooks/LO-Projects/ML Project/RAG/Reference_files/A Neuropsychiatric Analysis of the Cotard Delusion.pdf', 'file_type': 'application/pdf', 'file_size': 613934, 'creation_date': '2025-06-15', 'last_modified_date': '2025-06-15'}, excluded_embed_metadata_keys=['file_name', 'file_type', 'file_size', 'creation_date', 'last_modified_date', 'last_accessed_date'], excluded_llm_metadata_keys=['file_name', 'file_type', 'file_size', 'creation_date', 'last_modified_date', 'last_accessed_date'], relationships={}, metadata_template='{key}: {value}', metadata_separator='\\n', text_resource=MediaResource(embeddings=None, data=None, text='TABLE 1. Patient Demographic and Clinical Dataa\\nPatient\\nSex and Age\\nat Onset of Cotard\\nDelusions\\nDescription of Cotard\\nDelusions\\nCotard Delusions Occurring\\nin the Context of the\\nFollowing Signs/Symptoms/\\nDiagnoses\\nOther Delusions or\\nPsychoses\\nOther Unusual\\nBehaviors\\nTreatments Tried and\\nResponse\\n1 44 M Described feeling as though\\nhe was no longer alive and\\nthat he did not think that\\nanyone could kill him\\nbecause he was not alive\\nanyway.\\nWorsening of his mood\\nsymptoms, hallucinations,\\ndelusional thinking, and\\nself-injurious behaviors\\nover the last few weeks;\\nPMH of bipolar disorder,\\nborderline personality\\ndisorder, polysubstance\\ndependence (alcohol and\\nopiates) in full sustained\\nremission, and cluster\\nheadaches.\\nVisual hallucinations of rats\\nrunning across the\\nbaseboard, spiders on the\\nwall, and people’s faces\\nmelting.\\nNone described Dialectical-behavioral\\ntherapy plus buspirone\\n(30 mg t.i.d.) plus lithium\\n(900 mg b.i.d.) plus\\nlamotrigine (200 mg b.i.d.)\\nplus quetiapine (500 mg\\nq.d.) plus clonazepam\\n(1.5 mg q.d. for 5 days)\\nresulted in complete\\nresolution of symptoms.\\n2 85 F Became increasingly\\npreoccupied with morbid\\nthoughts about her own\\nlife and was convinced she\\nwas not alive and her life\\n“was a lie.”\\nSubacute onset of\\ndepressive symptoms,\\nincluding fragmented\\nsleep; decreased energy;\\ndecreased interest in\\neating; depressed mood;\\nand positive helplessness,\\nhopelessness, and\\nworthlessness.\\nFelt that people were trying\\nto conﬁscate money from\\nher and to steal her\\nidentity.\\nNone described Eight treatments of ECT plus\\nquetiapine (titrated from\\n25 mg to 100 mg q.d.) plus\\nlorazepam (0.5 mg PRN)\\nplus citalopram (20 mg\\nq.d.) resulted in resolution\\nof symptoms within\\n21 days of presentation.\\n3 74 M Reported that he had been\\nstabbed and killed at his\\nnursing home. Referred to\\nhis bed as his“casket.”\\nAltered mental status with\\nconcern for psychosis\\nand/or delirium.\\nNoted hearing the voice of\\n“almighty God” telling him\\nthat people are dying on\\nthe hospital unit.\\nNone described Risperidone (1.5 mg q.d.) for\\n10 days resulted in\\ncomplete resolution of\\nsymptoms.\\nAlso convinced that wife was\\nan imposter and an alien\\n(Capgras syndrome).\\nClaimed that he was being\\nfed cat food for dinner and\\nthat once they put“pins in\\nthe hamburgers,” because\\nsomebody “sabotaged\\nthem.”\\n4\\n66 M Believed he died in the\\nhospital and had risen\\nagain on Easter Sunday;\\ncontinued to have aﬁxed\\ndelusion over his“death”\\nfor several days until\\ntreated.\\nSteroid-induced psychosis None described None described Removal of corticosteroid\\ntreatment resulted in\\ncomplete resolution of\\nsymptoms after 20 days.\\ncontinued\\nJ Neuropsychiatry Clin Neurosci 30:1, Winter 2018 neuro.psychiatryonline.org 59\\nSAHOO AND JOSEPHS', path=None, url=None, mimetype=None), image_resource=None, audio_resource=None, video_resource=None, text_template='{metadata_str}\\n\\n{content}'), Document(id_='57876fc8-95e0-4e64-a3ce-b7dfe8d67c49', embedding=None, metadata={'page_label': '3', 'file_name': 'A Neuropsychiatric Analysis of the Cotard Delusion.pdf', 'file_path': '/content/drive/MyDrive/Colab Notebooks/LO-Projects/ML Project/RAG/Reference_files/A Neuropsychiatric Analysis of the Cotard Delusion.pdf', 'file_type': 'application/pdf', 'file_size': 613934, 'creation_date': '2025-06-15', 'last_modified_date': '2025-06-15'}, excluded_embed_metadata_keys=['file_name', 'file_type', 'file_size', 'creation_date', 'last_modified_date', 'last_accessed_date'], excluded_llm_metadata_keys=['file_name', 'file_type', 'file_size', 'creation_date', 'last_modified_date', 'last_accessed_date'], relationships={}, metadata_template='{key}: {value}', metadata_separator='\\n', text_resource=MediaResource(embeddings=None, data=None, text='TABLE 1, continued\\nPatient\\nSex and Age\\nat Onset of Cotard\\nDelusions\\nDescription of Cotard\\nDelusions\\nCotard Delusions Occurring\\nin the Context of the\\nFollowing Signs/Symptoms/\\nDiagnoses\\nOther Delusions or\\nPsychoses\\nOther Unusual\\nBehaviors\\nTreatments Tried and\\nResponse\\n5 65 M Believed he died on the\\noperating table during\\nsurgery. His proof was that\\nthe television screen light\\n“keeps fading” and that this\\nwas the afterlife and he\\nwas being tested.\\nEncephalopathy and seizures\\nin the postoperative\\nsetting after sedation in\\nthe ICU and without sleep\\nfor at least 48 hours\\nHallucinating that other\\npeople were in the room\\n“Swatting” at\\nstaff members\\nLacosamide (150 mg) for\\n4 days resulted in\\nresolution of symptoms.\\n6 35 F Believed that her brain was\\nrotting and that there were\\nworms in her brain that\\nshe could feel.\\nDehydration-induced\\npsychosis in the setting of\\npyelonephritis, chronic\\nparanoid schizophrenia,\\ndelusional parasitosis, and\\na history of opiate and\\nbenzodiazepam addiction.\\nAuditory hallucinations None described Fluid resuscitation and\\nhydration resulted in\\nalleviation of symptoms\\nand return to baseline at\\n2 weeks.\\n7 39 F Insisted that she had died\\nfrom an overdose given by\\nthe hospital staff; noted\\nthat she wants to sleep\\n“in my cofﬁn.”\\nSeizures, mild hyponatremia;\\nPMH of paranoid\\nschizophrenia,\\nschizoaffective disorder,\\nbipolar I disorder, and\\ncluster B personality traits.\\nParanoia Intense eye contact Lorazepam (2 mg q.d.) plus\\nvalproic acid (1000 mg\\nq.d.) plus risperidone\\n(8 mg q.d.) plus milieu\\ntherapy resulted in\\nresolution of symptoms\\nafter 1 month.\\n8 50 M Believed that his arm had\\nbeen cut off and hisﬁngers\\nwere being ground up and\\nthat he was dying.\\nMedication-resistant\\npsychotic disorder not\\notherwise speciﬁed, with\\nhistory of polysubstance\\nabuse and narcissistic\\npersonality traits.\\nBelieved that the television\\nwas talking to him and this\\nwas when“the voices are\\nthe clearest.”\\nNone described One treatment of ECT\\ndrastically improved\\nsymptoms.\\n9 30 M Believed that he had died\\nand was now in an\\nin-between world,\\nbetween the living and the\\ndead.\\nFrontal lobe dysfunction and\\ncognitive impairment\\n(conﬁrmed by\\nneuropsychometric\\ntesting) and polysubstance\\nabuse (marijuana and\\nalcohol).\\nParanoid behavior; for\\nexample, he would put on\\nsocks and ask,“Who put\\nthese on me?”\\nNone described Escitalopram (20 mg b.i.d.)\\nplus risperidone (varying\\ndoses going as high as\\n4 mg q.h.s.) plus lurasidone\\n(80 mg q.d.) for 1 month\\nresulted in improvement of\\nsymptoms.\\n10 39 F Despite reassurance that she\\nwas not dead, she\\nperseverated over the idea\\nthat she was not alive.\\nSagittal sinus thrombosis;\\nPMH of depression.\\nNone described Breath-holding spells\\n(“Dead people don’t\\nbreathe”), repetitive tongue\\nprotrusion-retraction\\nmovements for 1– 2h o u r s ,\\nand mutism (possibly caused\\nby suggestions told to her\\nthat dead people would not\\nspeak).\\nLorazepam (2 mg cumulative)\\nplus clonazepam (1.5 mg\\nq.d.) for 22 days resulted in\\nsymptom resolution.\\ncontinued\\n60 neuro.psychiatryonline.org J Neuropsychiatry Clin Neurosci 30:1, Winter 2018\\nNEUROPSYCHIATRIC ANALYSIS OF COTARD DELUSION', path=None, url=None, mimetype=None), image_resource=None, audio_resource=None, video_resource=None, text_template='{metadata_str}\\n\\n{content}'), Document(id_='56a35eb0-6cc8-4896-bd28-720b54efca74', embedding=None, metadata={'page_label': '4', 'file_name': 'A Neuropsychiatric Analysis of the Cotard Delusion.pdf', 'file_path': '/content/drive/MyDrive/Colab Notebooks/LO-Projects/ML Project/RAG/Reference_files/A Neuropsychiatric Analysis of the Cotard Delusion.pdf', 'file_type': 'application/pdf', 'file_size': 613934, 'creation_date': '2025-06-15', 'last_modified_date': '2025-06-15'}, excluded_embed_metadata_keys=['file_name', 'file_type', 'file_size', 'creation_date', 'last_modified_date', 'last_accessed_date'], excluded_llm_metadata_keys=['file_name', 'file_type', 'file_size', 'creation_date', 'last_modified_date', 'last_accessed_date'], relationships={}, metadata_template='{key}: {value}', metadata_separator='\\n', text_resource=MediaResource(embeddings=None, data=None, text='than Cotard’s, although he was initially diagnosed with\\nCotard delusions. Hence, a total of 12 adult patients were\\nidentiﬁed as having been diagnosed with Cotard ’ss y n -\\ndrome and were included in this study based on the in-\\nclusion criteria. Demographic, clinical, neuroimaging, and\\ntreatment data were then abstracted for these 12 patients.\\nThe study was approved by the Mayo Clinic Institutional\\nReview Board. All patients in this study gave written informed\\nconsent for their data to be used for research purposes.\\nRESULTS\\nOf the 12 patients identiﬁed as having evidence of Cotard\\ndelusions, eight (67%) were male and four (33%) were fe-\\nmale. The median age at presentation was 52 years (range:\\n30–85 years). Four of the 12 patients exhibited other unusual\\nbehaviors, and eight of the 12 were described as having other\\ndelusions or psychoses (Table 1).\\nEight of the 12 patients described feeling that they had\\ndied, and four patients claimed that they were dying. Three\\nof the eight patients described being killed by healthcare\\nworkers. Three of the four patients who claimed to be dying\\ndescribed the destruction of their internal organs and body\\nparts by either“worms,”“ viruses,” or “bugs,” with one of\\nthese patients being previously diagnosed with delusional\\nparasitosis (patient 6).\\nEight patients had a documented psychiatric history, with\\ntwo (17%) carrying a diagnosis of schizophrenia, three (25%)\\nhaving been diagnosed with depression, and four (33%) having\\na history of polysubstance abuse (Table 1). One patient (patient\\n3) presented with co-occurring Capgras syndrome; another\\npatient (patient 10) showed signs of catatonia.\\nFive individuals (42%) presented with neurological symp-\\ntoms at the time of their Cotard diagnosis. The neurological\\ndiagnoses included seizures, cluster headaches, sagittal sinus\\nthrombosis, encephalopathy andseizures, supranuclear palsy,\\nand frontal lobe dysfunction (Table 1). Non-neuropsychiatric\\nconditions copresenting with the Cotard delusions included\\nsteroid-induced psychosis, dehydration, and amantadine-\\ninduced psychosis (Table 1).\\nElectroencephalogram (EEG) data were available for four\\nof the 12 patients. All four patients with EEGs showed some\\ndegree of nonspeciﬁc slowing (Table 2).\\nNeuroimaging data were available for 11 out of the 12\\npatients (Table 2). Seven of the 11 (64%) patients with\\nneuroimaging showed evidence of bilateral or right-sided\\nhemisphere lesions. Four patients (36%) exhibited changes\\nin their frontal lobes, including bilateral leukoaraiosis and\\nvolume loss, right-sided white matter hyperintensities on\\nT2, right-sided encephalomalacia, and right-sided infarcts.\\nFour (36%) demonstrated generalized volume loss on im-\\naging. Three (27%) individuals had large vascular lesions,\\nincluding one right chronic middle cerebral artery (MCA)\\ninfarct, one chronic right corona radiata infarct, and one\\nwith superior sagittal sinus thrombosis with resultant bi-\\nlateral frontal and occipital lobe infarcts (Figure 1).\\nTABLE 1, continued\\nPatient\\nSex and Age\\nat Onset of Cotard\\nDelusions\\nDescription of Cotard\\nDelusions\\nCotard Delusions Occurring\\nin the Context of the\\nFollowing Signs/Symptoms/\\nDiagnoses\\nOther Delusions or\\nPsychoses\\nOther Unusual\\nBehaviors\\nTreatments Tried and\\nResponse\\n11 67 M Thought that there were\\nbugs in his eyes, in his\\nstomach, and in his\\nbottom. Wanted to go to\\nthe doctor to have these\\nremoved, as he thought\\nthat the bugs were“killing\\nhim.”\\nAmantadine-induced\\npsychosis in the setting\\nsupranuclear palsy\\ndiagnosis; PMH of\\ndepression.\\nNone described Standing in front of the\\nmirror to brush his teeth\\nand not doing anything for\\nan hour.\\nRemoval of amantadine\\nresulted in slight\\nimprovement of\\nsymptoms, although\\nfollow-up data are limited.\\n12 30 M Believed that his internal\\nbody organs were being\\neaten by a virus and that\\nhe was going to die soon\\nbecause of it.\\nNo associated psychological\\nor neurological diagnoses,\\nbut complaints of\\nautonomic dysfunction\\nand muscle twitching of\\nundetermined etiology.\\nNone described None described No treatments were\\npursued, and no follow-up\\ndata are available.\\na Abbreviations: b.i.d., twice daily; ECT, electroconvulsive therapy; F, female; M, male; PMH, past medical history; t.i.d., three times daily; q.d., every day; q.h.s., at bedtime.\\nJ Neuropsychiatry Clin Neurosci 30:1, Winter 2018 neuro.psychiatryonline.org 61\\nSAHOO AND JOSEPHS', path=None, url=None, mimetype=None), image_resource=None, audio_resource=None, video_resource=None, text_template='{metadata_str}\\n\\n{content}'), Document(id_='2b2cb7d7-ec77-4db7-9512-ddd44ada6e1d', embedding=None, metadata={'page_label': '5', 'file_name': 'A Neuropsychiatric Analysis of the Cotard Delusion.pdf', 'file_path': '/content/drive/MyDrive/Colab Notebooks/LO-Projects/ML Project/RAG/Reference_files/A Neuropsychiatric Analysis of the Cotard Delusion.pdf', 'file_type': 'application/pdf', 'file_size': 613934, 'creation_date': '2025-06-15', 'last_modified_date': '2025-06-15'}, excluded_embed_metadata_keys=['file_name', 'file_type', 'file_size', 'creation_date', 'last_modified_date', 'last_accessed_date'], excluded_llm_metadata_keys=['file_name', 'file_type', 'file_size', 'creation_date', 'last_modified_date', 'last_accessed_date'], relationships={}, metadata_template='{key}: {value}', metadata_separator='\\n', text_resource=MediaResource(embeddings=None, data=None, text='TABLE 2. Neuroimaging and Electroencephalogram Findingsa\\nPatient Imaging Type Neuroimaging Findings EEG Available EEG Findings\\n1 MRI head Few scattered foci of increased T2\\nsignal in the white matter of the right\\nfrontal lobe.\\nNo N/A\\n2 MRI head Moderate diffuse leukoaraiosis and\\nparenchymal volume loss, more\\npronounced in both frontal lobes.\\nNo N/A\\n3 MRI and CT\\nhead\\nChronic right MCA territory infarction\\nwith frontal-temporal lobe\\nencephalomalacia and gliosis and\\nWallerian degeneration of the\\nbrainstem. Small amounts of\\nassociated blood products in the\\nregion of chronic infarct. Mild\\nscattered leukoaraiosis. Moderate-\\nprominent cerebral parenchymal\\nvolume loss. Right subinsular\\nencephalomalacia periventricular\\nhypoattenuation and dystrophic\\ncalciﬁcation.\\nYes EEG shows mild diffuse nonspeci ﬁc\\nbackground slowing (grade\\n1 dysrhythmia). No potentially\\nepileptogenic activity was present\\nduring the recording.\\n4 MRI head Negative Yes EEG shows some mild diffuse nonspeci ﬁc\\nslowing of the background and\\nexcessive beta. No potentially\\nepileptogenic activity was present\\nduring the awake or sleep recordings.\\nDysrhythmia grade 1 generalized. The\\nrecording during wakefulness contains\\n9 Hz alpha activity over the posterior\\nhead regions. Some mild generalized\\nslowing and increase in beta is seen. No\\nabnormal activity occurred during\\nphotic stimulation.\\n5 MRI head Chronic right corona radiata lacunar\\ninfarct with associated hemosiderin.\\nMild leukoaraiosis. Mild generalized\\ncerebral and cerebellar volume loss\\nwith commensurate dilatation of the\\nventricular system.\\nYes EEG shows some mild diffuse\\nnonspeciﬁc slowing of the\\nbackground. Although the patient\\nwas intermittently drowsy throughout\\nthe recording, the mild slowing was\\nalso present during times of relative\\nalertness. No potentially\\nepileptogenic activity was present\\nduring the awake or sleep recordings.\\n6 MRI head 2 – 3 small foci of T2 signal within the\\nsubcortical white matter of both\\ncerebral hemispheres, likely ischemic\\nor degenerative.\\nNo N/A\\n7 CT head Negative No N/A\\n8 None N/A No N/A\\n9 CT head Negative No N/A\\n10 MRI head Progression of previous bilateral cerebral\\nhemisphere infarcts involving both\\nfrontal lobes anteriorly, both occipital\\nlobes, and the right posterior frontal-\\nanterior parietal lobes. Complete\\nthrombosis of the superior sagittal\\nsinus. MRI also demonstrates\\nirregularity of both transverse sinuses,\\nleft greater than right, which may\\nrepresent extension of the thrombus\\ninto the transverse and perhaps sigmoid\\nsinuses. New cortical enhancement in a\\ngyriform pattern present in the frontal\\nand occipital lobes bilaterally and in\\nboth parietal lobes.\\nYes The portable EEG shows a moderate\\ndegree of nonspeciﬁc slowing over\\nthe bitemporal head regions. These\\nﬁndings are consistent with a focal\\ndisturbance of cerebral function or\\nfocal lesion involving these regions.\\ncontinued\\n62 neuro.psychiatryonline.org J Neuropsychiatry Clin Neurosci 30:1, Winter 2018\\nNEUROPSYCHIATRIC ANALYSIS OF COTARD DELUSION', path=None, url=None, mimetype=None), image_resource=None, audio_resource=None, video_resource=None, text_template='{metadata_str}\\n\\n{content}'), Document(id_='eccd6acb-c49f-4f74-901c-c84a837b3dfc', embedding=None, metadata={'page_label': '6', 'file_name': 'A Neuropsychiatric Analysis of the Cotard Delusion.pdf', 'file_path': '/content/drive/MyDrive/Colab Notebooks/LO-Projects/ML Project/RAG/Reference_files/A Neuropsychiatric Analysis of the Cotard Delusion.pdf', 'file_type': 'application/pdf', 'file_size': 613934, 'creation_date': '2025-06-15', 'last_modified_date': '2025-06-15'}, excluded_embed_metadata_keys=['file_name', 'file_type', 'file_size', 'creation_date', 'last_modified_date', 'last_accessed_date'], excluded_llm_metadata_keys=['file_name', 'file_type', 'file_size', 'creation_date', 'last_modified_date', 'last_accessed_date'], relationships={}, metadata_template='{key}: {value}', metadata_separator='\\n', text_resource=MediaResource(embeddings=None, data=None, text='Eleven out of 12 patients received treatment, and all\\n11 experienced an improvement and/or resolution of Cotard\\ndelusions (Table 1). Treatments utilized in the patients in-\\ncluded electroconvulsive therapy (ECT), psychotherapy,\\nbehavioral therapy, anxiolytics (buspirone), antidepressants\\n(citalopram), antipsychotics (risperidone, quetiapine, lurasidone,\\nand lithium) anticonvulsants (valproic acid, lacosamide, and\\nlamotrigine), sedatives (clonazepam and lorazepam), rehydration\\ntherapy, and removal of offending drugs. Response to ECT\\nwas variable in terms of number of treatments (range: 1–8)\\nand addition of pharmacotherapy (Table 1). In a majority of\\nthe patients, pharmacologic treatment involved multiple\\nclasses of drugs (for example, lorazepam plus valproic acid\\nplus risperidone) (see Table 1).\\nDISCUSSION\\nCotard delusions were reported in patients across a rela-\\ntively wide spectrum of neurological, psychiatric, and medical\\ndisorders in this study. Interestingly, there was a gender\\npredilection for males. The median age of affected individ-\\nuals was 52, which contrasts with the previously proposed\\nidea that Cotard’s syndrome is primarily a condition of the\\nelderly.\\n12\\nPrevious publications on\\nthe topic of Cotard ’s have\\nshown an association with\\nheadaches,\\n2 seizures, 5 sag-\\nittal sinus thrombosis,8 cere-\\nbral atrophy,4 encephalopathy,1\\ninfarction,7 catatonia,13,14 and\\nCapgras syndrome,7,11 which\\nwe have conﬁrmed. Addition-\\nally, we identiﬁed other poten-\\ntial diagnostic associations not\\npreviously reported, including\\ndehydration, steroid psychosis,\\nand supranuclear palsy and/or\\namantadine psychosis. How-\\never, it is important to note that\\nin the patient presenting with\\nCotard delusions in the setting\\nof dehydration-induced psycho-\\nsis, there had been previously\\ndocumented diagnoses of paranoid schizophrenia and delu-\\nsional parasitosis, and a history of opiate and benzodiaze-\\npam addiction. Nevertheless, the patient’s delusions did\\nrespond toﬂuid resuscitation, strengthening the idea of its\\npossible involvement in the pathophysiology.\\nAmantadine has been shown to induce psychosis and\\nmania in the literature, but it has not previously been re-\\nported in those presenting with Cotard delusions.\\n15,16 The\\nsame goes for dehydration-related hyponatremia17 and cor-\\nticosteroid use.18\\nA majority (64%) of the patients presented with right-\\nsided or bilateral changes. This is an important ﬁnding\\nthat adds to the growing literature on delusional mis-\\nidenti ﬁcation syndromes (DMSs), under which some\\nposit that Cotard’s syndrome falls.\\n19 Additionally, studies\\nhave demonstrated trends of increased bilateral cerebral\\natrophy and median frontal lobe atrophy in particular\\nin patients diagnosed with Cotard’s.\\n20 We also found the\\nmost commonly affected region was the frontal lobe\\n(36% bilaterally or right-sided), although other areas were\\ninvolved, as well. Bilateral cerebral atrophy was found in\\nfour out of 11 patients (36%). Vascular lesions seemed to\\nbe the most common change seen, especially on the right\\nside; this aligns with theﬁndings of several reports.\\n3,7,8\\nTABLE 2, continued\\nPatient Imaging Type Neuroimaging Findings EEG Available EEG Findings\\n11 MRI head Ischemic small-vessel disease in both\\ncerebral hemispheres, without focal\\nrestricted diffusion, nor intracranial\\nparamagnetic susceptibility effect.\\nGeneralized cerebral and cerebellar\\nvolume loss.\\nNo N/A\\n12 MRI head Normal mild lateral ventricular\\nasymmetry.\\nNo N/A\\na Abbreviations: CT, computed tomography; EEG, electroencephalogram; MCA, middle cerebral artery.\\nFIGURE 1. Axial Brain Scans Highlighting Areas of Large Vascular Lesions in Three Patients With\\nCotard Delusionsa\\na The image shows large vascular lesions in three patients with Cotard delusion, including a chronic right-\\nmiddle cerebral artery territory infarction with frontal-temporal lobe encephalomalacia and gliosis in patient\\n3 (A), a chronic right corona radiata lacunar infarct with associated hemosiderin in patient 5 (B), and bilateral\\ncerebral hemisphere infarcts involving both frontal lobes anteriorly and both occipital lobes in patient 10 (C).\\nL=Left side of the image.\\nJ Neuropsychiatry Clin Neurosci 30:1, Winter 2018 neuro.psychiatryonline.org 63\\nSAHOO AND JOSEPHS', path=None, url=None, mimetype=None), image_resource=None, audio_resource=None, video_resource=None, text_template='{metadata_str}\\n\\n{content}'), Document(id_='cef75108-e32f-497f-ba91-364f374be402', embedding=None, metadata={'page_label': '7', 'file_name': 'A Neuropsychiatric Analysis of the Cotard Delusion.pdf', 'file_path': '/content/drive/MyDrive/Colab Notebooks/LO-Projects/ML Project/RAG/Reference_files/A Neuropsychiatric Analysis of the Cotard Delusion.pdf', 'file_type': 'application/pdf', 'file_size': 613934, 'creation_date': '2025-06-15', 'last_modified_date': '2025-06-15'}, excluded_embed_metadata_keys=['file_name', 'file_type', 'file_size', 'creation_date', 'last_modified_date', 'last_accessed_date'], excluded_llm_metadata_keys=['file_name', 'file_type', 'file_size', 'creation_date', 'last_modified_date', 'last_accessed_date'], relationships={}, metadata_template='{key}: {value}', metadata_separator='\\n', text_resource=MediaResource(embeddings=None, data=None, text='Right frontal damage has been reported in those with\\ndelusional misidentiﬁcation.19,21,22 Cotard’s syndrome falls\\nunder the category of hypofamiliarity delusions of self in\\nterms of DMSs.\\n19 A “two-hit” hypothesis has been suggested\\nfor DMSs, in which theﬁrst hit produces abnormal per-\\nception and the second hit leads to persistence of the ab-\\nnormal perception despite being presented evidence to the\\ncontrary.\\n19 The pathophysiology of some of these identiﬁed\\nsyndromes involves disconnections in the neural circuits\\ninvolved in perception of self, with potential explanations\\nciting that DMSs, in particular hypofamiliarity delusions,\\nresult from an inability to link perceptions of external or\\nenvironmental stimuli with internally generated autobio-\\ngraphical memories.\\n19,23 Studies cite that a deep right\\nfrontal lesion could disrupt the anatomic connection be-\\ntween temporal and limbic regions and the damaged frontal\\nlobe; this disconnection could result in a disturbance in fa-\\nmiliarity of self, people, places, objects, and so on, and the\\noccurrence of frontal lobe injury could lead to a problem\\nwith resolving the cognitive conﬂict.\\n22 Lesions speciﬁcally\\nof the nondominant hemisphere have also been implicated in\\nCotard’s syndrome,\\n24 indicating that the ﬁndings of non-\\ndominant hemisphere changes may indeed be signiﬁcant.\\nFurthermore, DMSs have been shown to simultaneously\\nco-occur in previously published literature.19 We also saw\\nthis in our patient who presented with both Capgras and\\nCotard delusions, both of which are classiﬁed as hypo-\\nfamiliarity syndromes.\\n19\\nIn terms of treatment modalities, both ECT and phar-\\nmacotherapy have been shown to be effective in combatting\\nCotard’s syndrome in the literature.\\n3,21,25 One previous\\nstudy demonstrated increased dopamine receptor binding in\\na patient presenting with Cotard’s,26 which bolstered the\\nassociation between schizophrenia and Cotard’s syndrome\\nvia the dopamine hypothesis. Thus, the effectiveness of do-\\npamine antagonists such as risperidone and quetiapine and\\nselective serotonin reuptake inhibitors (SSRIs) such as cit-\\nalopram (which also has been shown to decrease dopamine\\nin the brain) in this condition can be readily explained.\\n27 In\\na similar vein, amantadine is a dopamine receptor agonist,\\nwhich could potentially explain the resulting psychosis and\\ndelusions in patient 11.\\nThe general approach for treatment involved treating the\\nunderlying medical or neuropsychiatric illness in all cases.\\nOur study also points to the potential beneﬁt of behavioral\\nand psychotherapy in the treatment of Cotard’s syndrome\\nwhen used in conjunction with pharmacotherapy. The nu-\\nmerous treatment modalities shown to be effective in alle-\\nviating symptoms of Cotard’s syndrome in this study are\\npromising in that they conﬁrm that the delusion is often\\neasily combatable with readily available treatments.\\nLimitations of this study include a relatively small cohort,\\nalthough this is a rare delusion, and incomplete follow-up\\ninformation for some patients. Also, in terms of neuro-\\nimaging, three of the 12 patients did not undergo MRI, which\\nis unfortunately an unavoidable limitation in a retrospective\\nstudy such as this. Therefore, multicenter, prospective,\\nclinico-anatomic, and functional imaging studies are needed\\nto determine the anatomic or network disruption that ac-\\ncounts for this uncommon but interesting delusion.\\nAUTHOR AND ARTICLE INFORMATION\\nFrom the Mayo Clinic School of Medicine, Rochester, Minn. (AS); and the\\nDepartment of Neurology, Mayo Clinic, Rochester, Minn. (KAJ).\\nSend correspondence to Ms. Sahoo; e-mail: sahoo.aradhana@mayo.edu\\nThe authors report noﬁnancial relationships with commercial interests.\\nReceived Jan. 15, 2017; revisions received Feb. 21, and March 17, 2017;\\naccepted March 17, 2017; published online June 23, 2017.\\nREFERENCES\\n1. Ramirez-Bermudez J, Aguilar-Venegas LC, Crail-Melendez D, et al:\\nCotard syndrome in neurological and psychiatric patients. J Neuro-\\npsychiatry Clin Neurosci 2010; 22:409–416\\n2. Bhatia MS, Agrawal P, Malik SC: Cotard’s syndrome in migraine\\n(a case report). Indian J Med Sci 1993; 47:152–153\\n3. Perez DL, Fuchs BH, Epstein J: A case of Cotard syndrome in a\\nwoman with a right subdural hemorrhage. J Neuropsychiatry Clin\\nNeurosci 2014; 26:E29–E30\\n4. Chatterjee SS, Mitra S:“I do not exist”— Cotard syndrome in in-\\nsular cortex atrophy. Biol Psychiatry 2015; 77:e52–e53\\n5. Drake ME Jr: Cotard’s syndrome and temporal lobe epilepsy.\\nPsychiatr J Univ Ott 1988; 13:36–39\\n6. Gardner-Thorpe C, Pearn J: The Cotard syndrome. Report of two\\npatients: with a review of the extended spectrum of“délire des\\nnégations.” Eur J Neurol 2004; 11:563–566\\n7. Sottile F, Bonanno L, Finzi G, et al: Cotard and Capgras syn-\\ndrome after ischemic stroke. J Stroke Cerebrovasc Dis 2015; 24:\\ne103–e104\\n8. Hu WT, Diesing TS, Meissner I: Cotard’s syndrome in a patient\\nwith superior sagittal sinus thrombosis. Biol Psychiatry 2006; 56:\\n263S\\n9. Bhatia MS: Cotard’s syndrome in parietal lobe tumor. Indian Pediatr\\n1993; 30:1019–1021\\n10. Factor SA, Molho ES: Threatening auditory hallucinations and\\nCotard syndrome in Parkinson disease. Clin Neuropharmacol 2004;\\n27:205–207\\n11. Butler PV: Diurnal variation in Cotard’s syndrome (copresent with\\nCapgras delusion) following traumatic brain injury. Aust N Z J\\nPsychiatry 2000; 34:684–687\\n12. Berrios GE, Luque R: Cotard’s delusion or syndrome? a conceptual\\nhistory. Compr Psychiatry 1995; 36:218–223\\n13. Basu A, Singh P, Gupta R, et al: Cotard syndrome with catatonia:\\nunique combination. Indian J Psychol Med 2013; 35:314–316\\n14. Weiss C, Santander J, Torres R: Catatonia, neuroleptic malignant\\nsyndrome, and Cotard syndrome in a 22-year-old woman: a case\\nreport. Case Report Psychiatry 2013; 2013:452646\\n15. Smith EJ: Amantadine-induced psychosis in a young healthy pa-\\ntient. Am J Psychiatry 2008; 165:1613\\n16. Borison RL: Amantadine-induced psychosis in a geriatric patient\\nwith renal disease. Am J Psychiatry 1979; 136:111–112\\n17. Singh RK, Chaudhury S: Hyponatremia-induced psychosis in an\\nindustrial setting. Ind Psychiatry J 2009; 18:137–138\\n18. Siddiqui Z, Ramaswamy S, Petty F: Quetiapine therapy for\\ncorticosteroid-induced mania. Can J Psychiatry 2005; 50:77–78\\n19. Darby R, Prasad S: Lesion-related delusional misidenti ﬁcation\\nsyndromes: a comprehensive review of reported cases. J Neuro-\\npsychiatry Clin Neurosci 2016; 28:217–\\n222\\n20. Joseph AB, O’Leary DH: Brain atrophy and interhemisphericﬁs-\\nsure enlargement in Cotard’s syndrome. J Clin Psychiatry 1986; 47:\\n518–520\\n64 neuro.psychiatryonline.org J Neuropsychiatry Clin Neurosci 30:1, Winter 2018\\nNEUROPSYCHIATRIC ANALYSIS OF COTARD DELUSION', path=None, url=None, mimetype=None), image_resource=None, audio_resource=None, video_resource=None, text_template='{metadata_str}\\n\\n{content}'), Document(id_='2cb8328a-c4bb-4b42-8e1b-925a39dce305', embedding=None, metadata={'page_label': '8', 'file_name': 'A Neuropsychiatric Analysis of the Cotard Delusion.pdf', 'file_path': '/content/drive/MyDrive/Colab Notebooks/LO-Projects/ML Project/RAG/Reference_files/A Neuropsychiatric Analysis of the Cotard Delusion.pdf', 'file_type': 'application/pdf', 'file_size': 613934, 'creation_date': '2025-06-15', 'last_modified_date': '2025-06-15'}, excluded_embed_metadata_keys=['file_name', 'file_type', 'file_size', 'creation_date', 'last_modified_date', 'last_accessed_date'], excluded_llm_metadata_keys=['file_name', 'file_type', 'file_size', 'creation_date', 'last_modified_date', 'last_accessed_date'], relationships={}, metadata_template='{key}: {value}', metadata_separator='\\n', text_resource=MediaResource(embeddings=None, data=None, text='21. Debruyne HPM, Peremans K, Audenaert K: Cotard’s syndrome.\\nMind Brain 2011; 2:67–72\\n22. Feinberg TE, Keenan JP: The Lost Self: Pathologies of the Brain\\nand Identity. Oxford, United Kingdom, Oxford University Press,\\n2005\\n23. Darby RR, Caplan D:“Cat-gras” delusion: a unique misidentiﬁcation\\nsyndrome and a novel explanation. Neurocase 2016; 22:251–256\\n24. McKay R, Cipolotti L: Attributional style in a case of Cotard de-\\nlusion. Conscious Cogn 2007; 16:349–359\\n25. Grover S, Shah R, Ghosh A: Electroconvulsive therapy for lycan-\\nthropy and Cotard syndrome: a case report. J ECT 2010; 26:280–281\\n26. De Risio S, De Rossi G, Sarchiapone M, et al: A case of Cotard\\nsyndrome: (123)I-IBZM SPECT imaging of striatal D(2) receptor\\nbinding. Psychiatry Res 2004; 130:109–112\\n27. Kaneko F, Kawahara Y, Kishikawa Y, et al: Long-term citalopram\\ntreatment alters the stress responses of the cortical dopamine and\\nnoradrenaline systems: the role of cortical 5-HT1A receptors. Int J\\nNeuropsychopharmacol 2016; 19:pyw026\\nJ Neuropsychiatry Clin Neurosci 30:1, Winter 2018 neuro.psychiatryonline.org 65\\nSAHOO AND JOSEPHS', path=None, url=None, mimetype=None), image_resource=None, audio_resource=None, video_resource=None, text_template='{metadata_str}\\n\\n{content}')]\n",
            "<class 'list'> 8\n"
          ]
        }
      ]
    },
    {
      "cell_type": "markdown",
      "source": [
        "##Step 2: Indexing\n",
        "\n",
        "Create Index using Transformation: Splits your data into smaller, manageable chunks (nodes) and structures them so that only relevant chunks are retrieved during a query"
      ],
      "metadata": {
        "id": "QMVLtPfQ24wG"
      }
    },
    {
      "cell_type": "code",
      "source": [
        "from llama_index.llms.openai import OpenAI\n",
        "from llama_index.core.node_parser import TokenTextSplitter\n",
        "from llama_index.core.node_parser import SentenceSplitter\n",
        "from llama_index.core.node_parser import SimpleNodeParser\n",
        "import tiktoken\n",
        "from llama_index.embeddings.openai import OpenAIEmbedding\n",
        "\n",
        "from llama_index.core import Settings\n",
        "\n",
        "from llama_index.core import VectorStoreIndex"
      ],
      "metadata": {
        "id": "rv81IXeKUsD3"
      },
      "execution_count": 6,
      "outputs": []
    },
    {
      "cell_type": "code",
      "source": [
        "# Transformation\n",
        "\n",
        "# Create TokenTextSplitter to use: Split to appropriate token size\n",
        "text_splitter = TokenTextSplitter( separator=\" \",\n",
        "                                   chunk_size=1024, #chunk size is 1024 tokens\n",
        "                                   chunk_overlap=20, # num of overlapping tokens between two chunks, minimize context loss\n",
        "                                   backup_separators=[\"\\n\"],\n",
        "                                   tokenizer=tiktoken.encoding_for_model(\"gpt-3.5-turbo\").encode\n",
        "                                   # use the same tokenizer as OpenAI's gpt-3.5-turbo, and return a list of token IDs\n",
        "                                  )\n",
        "\n",
        "\n",
        "# Create SentenceSplitter to use; make sure sentence is not separated\n",
        "node_parser = SentenceSplitter( chunk_size=1024,\n",
        "                                chunk_overlap=20)"
      ],
      "metadata": {
        "id": "U48XWqiC2yy1"
      },
      "execution_count": 7,
      "outputs": []
    },
    {
      "cell_type": "code",
      "source": [
        "#Define large langurage model to use:\n",
        "llm = OpenAI( model='gpt-3.5-turbo',\n",
        "              temperature=0, # higher, the more different answers will be each time; if=0, same answer every time\n",
        "              max_tokens=256 # allowed max number of tokens in the generated answer\n",
        "            )\n",
        "\n",
        "\n",
        "Settings.llm=llm\n",
        "Settings.text_splitter=text_splitter\n",
        "Settings.node_parser=node_parser\n",
        "#TokenTextSplitter: ensures that each text chunk does not exceed the model's token limit, crucial for handling long texts.\n",
        "#SentenceSplitter: ensures that text chunks are split at sentence boundaries to avoid cutting sentences in half,\n",
        "#                  thereby preserving contextual coherence.\n",
        "\n",
        "\n",
        "index = VectorStoreIndex.from_documents(documents,\n",
        "                                        transformation=[text_splitter,node_parser,llm] #pipeline of processing steps applied to the document\n",
        "                                        )\n",
        "print(index)"
      ],
      "metadata": {
        "colab": {
          "base_uri": "https://localhost:8080/"
        },
        "id": "zNcFhwV2Wqyj",
        "outputId": "19f63b26-cb9d-4656-cf35-1d1f6c4a266b"
      },
      "execution_count": 8,
      "outputs": [
        {
          "output_type": "stream",
          "name": "stdout",
          "text": [
            "<llama_index.core.indices.vector_store.base.VectorStoreIndex object at 0x7a2e93f3ba50>\n"
          ]
        }
      ]
    },
    {
      "cell_type": "markdown",
      "source": [
        "##Step 3: Storing\n",
        "\n",
        "Saves all components of the index to disk. \\\n",
        "This is how you make your index persistent — so next time running the code, can load it without rebuilding."
      ],
      "metadata": {
        "id": "CE4GjFPnlCe9"
      }
    },
    {
      "cell_type": "code",
      "source": [
        "from llama_index.core import StorageContext, load_index_from_storage"
      ],
      "metadata": {
        "id": "O17bHDmAwyw8"
      },
      "execution_count": 9,
      "outputs": []
    },
    {
      "cell_type": "code",
      "source": [
        "# save index to disk\n",
        "index.set_index_id(\"vector_index\")\n",
        "# set the saving path: content/storage\n",
        "index.storage_context.persist(\"./storage\")"
      ],
      "metadata": {
        "id": "zgKjajjOVnNW"
      },
      "execution_count": 10,
      "outputs": []
    },
    {
      "cell_type": "code",
      "source": [
        "# rebuild storage context, from the given path\n",
        "storage_context = StorageContext.from_defaults(persist_dir=\"storage\")\n",
        "\n",
        "# load index, by providing the previously set index_id\n",
        "index = load_index_from_storage(storage_context, index_id=\"vector_index\")"
      ],
      "metadata": {
        "id": "7bI8Up9hvzmK",
        "colab": {
          "base_uri": "https://localhost:8080/"
        },
        "outputId": "5cc85f44-4942-4b0b-f055-5401d0511a58"
      },
      "execution_count": 11,
      "outputs": [
        {
          "output_type": "stream",
          "name": "stdout",
          "text": [
            "Loading llama_index.core.storage.kvstore.simple_kvstore from storage/docstore.json.\n",
            "Loading llama_index.core.storage.kvstore.simple_kvstore from storage/index_store.json.\n"
          ]
        }
      ]
    },
    {
      "cell_type": "markdown",
      "source": [
        "##Step 4: Querying\n",
        "\n",
        "Ssing LlamaIndex to retrieve the most relevant piece of information from the indexed documents provided."
      ],
      "metadata": {
        "id": "JtE1Rsab3ANu"
      }
    },
    {
      "cell_type": "code",
      "source": [
        "from llama_index.core.retrievers import VectorIndexRetriever"
      ],
      "metadata": {
        "id": "4X6lS9HTx_by"
      },
      "execution_count": 12,
      "outputs": []
    },
    {
      "cell_type": "code",
      "source": [
        "# Retriever, query from previously created index\n",
        "\n",
        "# Configure retriever\n",
        "retriever = VectorIndexRetriever( index=index,\n",
        "                                  similarity_top_k=1, #Return the top k most similar result\n",
        "                                )\n",
        "\n",
        "# Provide query content\n",
        "query = 'What is Cotard Delusion?'\n",
        "# query = 'What are the potential diagnostic associations of Cotard Delusion'\n",
        "\n",
        "#Finding out the nodes for the new query:\n",
        "nodes=retriever.retrieve(query) # Node is the most relevant information"
      ],
      "metadata": {
        "id": "4gIM1-r43An9"
      },
      "execution_count": 22,
      "outputs": []
    },
    {
      "cell_type": "markdown",
      "source": [
        "##### **Provide the most relevant chunk to the query** :\n",
        "\n",
        "Note: size of the given node is based on the previous loading process settings"
      ],
      "metadata": {
        "id": "RGy4QI-33Yee"
      }
    },
    {
      "cell_type": "code",
      "source": [
        "print(nodes[0].text)\n",
        "#print(len(nodes[0].text))"
      ],
      "metadata": {
        "colab": {
          "base_uri": "https://localhost:8080/"
        },
        "id": "0KA1N1W-yvQJ",
        "outputId": "9de3149f-aa4d-4b57-bbc0-520140a9cf3b"
      },
      "execution_count": 23,
      "outputs": [
        {
          "output_type": "stream",
          "name": "stdout",
          "text": [
            "A Neuropsychiatric Analysis of the Cotard Delusion\n",
            "Aradhana Sahoo, B.S., Keith A. Josephs, M.D.\n",
            "Cotard’s syndrome, a condition in which the patient denies\n",
            "his or her own existence or the existence of body parts, is a\n",
            "rare illness that has been reported in association with several\n",
            "neuropsychiatric diagnoses. The majority of published lit-\n",
            "erature on the topic is in the form of case reports, many of\n",
            "which are several years old. The authors evaluated associated\n",
            "diagnoses, neuroimaging, and treatments recorded in pa-\n",
            "tients diagnosed with Cotard’s syndrome at their institution. A\n",
            "search of the Mayo Clinic database for patients with mention\n",
            "of signs and symptoms associated with Cotard’s in their re-\n",
            "cords between 1996 and 2016 was conducted. The electronic\n",
            "medical records of the identiﬁed patients were then reviewed\n",
            "for evidence of a true diagnosis of Cotard’s. Clinical and\n",
            "neuroimaging data were also recorded for these patients. The\n",
            "search identiﬁed 18 patients, 14 of whom had Cotard delu-\n",
            "sions. Two of the 14 were excluded due to them being under\n",
            "age 18. The resulting 12 patients had a median age of 52 years\n",
            "(range: 30 – 85 years). On neuroimaging, four patients\n",
            "exhibited frontal lobe changes, four demonstrated gener-\n",
            "alized volume loss, andﬁve had ischemic changes; seven\n",
            "patients demonstrated right-sided or bilateral hemisphere\n",
            "lesions. Treatments included ECT, pharmacotherapy, be-\n",
            "havioral therapy, psychotherapy, rehydration, and removal\n",
            "of offending drugs. To conclude, Cotard delusions occur in\n",
            "the context of a relatively wide spectrum of neurological,\n",
            "psychiatric, and medical disorders and present with various\n",
            "neural changes. Nondominant hemisphere lesions may\n",
            "play a role in the pathophysiology. A number of effective\n",
            "treatments are available.\n",
            "J Neuropsychiatry Clin Neurosci 2018; 30:58–65;\n",
            "doi: 10.1176/appi.neuropsych.17010018\n",
            "Cotard’s syndrome is a rare neuropsychiatric condition that\n",
            "manifests as nihilistic delusions ranging from denial of the\n",
            "existence of body parts to negation of self-existence.\n",
            "1\n",
            "Though described initially in 1880, very little is understood\n",
            "about this disorder, and its inclusion in theDSM-5 as a\n",
            "speciﬁc listing has been avoided. The current status of\n",
            "Cotard’s syndrome is its conceptualization as a manifesta-\n",
            "tion of an underlying disorder. While Cotard’si so f t e nd e -\n",
            "scribed as being a psychiatric syndrome, published studies\n",
            "have shown a strong correlation between a preexisting\n",
            "neurological disease and the condition.\n",
            "1\n",
            "A variety of associated neurological conditions have been\n",
            "described, including migraines, 2 subdural hemorrhage, 3\n",
            "cerebral atrophy,4 cerebral arterio-venous malformation,5\n",
            "multiple sclerosis, 6 cerebral infarction, 7 superior sagittal\n",
            "sinus thrombosis, 8 parietal lobe tumor, 9 temporal lobe\n",
            "epilepsy,5 Parkinson’s disease,10 encephalopathy,1 and brain\n",
            "injury.11 Understanding Cotard’s syndrome and its connec-\n",
            "tion to other neurological conditions is essential to identi-\n",
            "fying appropriate treatment modalities.\n",
            "The goal of this study thus was to identify patients with\n",
            "Cotard’s syndrome seen at our institution within the last two\n",
            "decades and identify those patients in whom the Cotard’s\n",
            "was felt to be secondary to another psychiatric or neurologic\n",
            "illness or insult. In doing so, we hoped to describe the as-\n",
            "sociation between Cotard’s and other conditions affecting\n",
            "the brain in order to better deﬁne possible pathophysiologic\n",
            "mechanisms underlying the syndrome.\n",
            "METHODS\n",
            "Patients were identi ﬁed by searching the Mayo Clinic\n",
            "computerized clinical database (1996–2016) for all individ-\n",
            "uals for whom any of the following terms had been men-\n",
            "tioned in the medical records, with variations:Cotard(’s)\n",
            "syndrome, delusion(s) of negation, nihilistic delusion(s), walk-\n",
            "ing corpse syndrome, delusion(s) of missing organs, denial of\n",
            "existence, idea(s) of damnation.\n",
            "The search identiﬁed 18 patients.\n"
          ]
        }
      ]
    },
    {
      "cell_type": "markdown",
      "source": [
        "##Step 5: Querying--Assemble Query Engine\n",
        "\n",
        "Building a full question-answering pipeline over the documents provided using LlamaIndex."
      ],
      "metadata": {
        "id": "Enfk6IgI3c9B"
      }
    },
    {
      "cell_type": "code",
      "source": [
        "from llama_index.core import get_response_synthesizer\n",
        "from llama_index.core.query_engine import RetrieverQueryEngine\n",
        "from llama_index.core.postprocessor import SimilarityPostprocessor"
      ],
      "metadata": {
        "id": "er5AdXxl6uU-"
      },
      "execution_count": 24,
      "outputs": []
    },
    {
      "cell_type": "code",
      "source": [
        "# Design query engine\n",
        "\n",
        "# configure response synthesizer\n",
        "# Purpose: Turn retrieved document chunks into a natural language answer using an LLM\n",
        "response_synthesizer = get_response_synthesizer()\n",
        "\n",
        "# assemble query engine\n",
        "query_engine = RetrieverQueryEngine(retriever=retriever, #use the retriever designed before\n",
        "                                    node_postprocessors=[SimilarityPostprocessor(similarity_cutoff=0.5)],\n",
        "                                    #Using embedding-based cosine similarity to select document chunk; 1--perfect match\n",
        "                                    response_synthesizer=response_synthesizer\n",
        "                                    )\n",
        "\n",
        "\"\"\"Note：\n",
        "A Response Synthesizer is what generates a response from an LLM, using a user query and a given set of text chunks.\n",
        "The output of a response synthesizer is a Response object.The method for doing this can take many forms, from as simple\n",
        "as iterating over text chunks, to as complex as building a tree. The main idea here is to simplify the process of generating\n",
        "a response using an LLM across your data.\n",
        "\n",
        "When used in a query engine, the response synthesizer is used after nodes are retrieved from a retriever,\n",
        "                                                          and after any node-postprocessors are ran.\n",
        "\"\"\"\n",
        "\n",
        "response = query_engine.query(query)"
      ],
      "metadata": {
        "id": "1p7RnNwc3fue"
      },
      "execution_count": 25,
      "outputs": []
    },
    {
      "cell_type": "markdown",
      "source": [
        "##### **Natural langurage answer using query engine** :"
      ],
      "metadata": {
        "id": "LzM6cQ618jqm"
      }
    },
    {
      "cell_type": "code",
      "source": [
        "import textwrap\n",
        "\n",
        "wrapped_text = textwrap.fill(response.response, width=100)  # Set max length of each row as 80\n",
        "print(wrapped_text)"
      ],
      "metadata": {
        "colab": {
          "base_uri": "https://localhost:8080/"
        },
        "id": "AbcMhuiP9Ii3",
        "outputId": "e6f84f39-fe51-489c-8d1e-f2d4c92fa628"
      },
      "execution_count": 34,
      "outputs": [
        {
          "output_type": "stream",
          "name": "stdout",
          "text": [
            "Cotard Delusion is a rare neuropsychiatric condition where the patient denies their own existence or\n",
            "the existence of body parts. It is characterized by nihilistic delusions that can range from denial\n",
            "of body parts to negation of self-existence.\n"
          ]
        }
      ]
    }
  ]
}